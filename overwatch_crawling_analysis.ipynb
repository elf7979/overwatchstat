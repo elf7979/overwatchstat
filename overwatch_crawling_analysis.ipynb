{
  "nbformat": 4,
  "nbformat_minor": 0,
  "metadata": {
    "colab": {
      "name": "overwatch_crawling_analysis.ipynb",
      "provenance": [],
      "collapsed_sections": []
    },
    "kernelspec": {
      "name": "python3",
      "display_name": "Python 3"
    }
  },
  "cells": [
    {
      "cell_type": "code",
      "metadata": {
        "id": "ymm-mqFEmxDi",
        "colab_type": "code",
        "colab": {}
      },
      "source": [
        "import json\n",
        "import pandas as pd\n",
        "from pandas.io.json import json_normalize\n",
        "import requests"
      ],
      "execution_count": 1,
      "outputs": []
    },
    {
      "cell_type": "code",
      "metadata": {
        "id": "rZtMVlvpm_Nb",
        "colab_type": "code",
        "colab": {}
      },
      "source": [
        "overwatch_api = 'https://api.overwatchleague.com/stats/players'\n",
        "res = requests.get(overwatch_api)"
      ],
      "execution_count": 2,
      "outputs": []
    },
    {
      "cell_type": "code",
      "metadata": {
        "id": "toxbHzbenCdr",
        "colab_type": "code",
        "colab": {}
      },
      "source": [
        "watchdata = res.json()\n",
        "with open('./overstat.json', 'w', encoding = 'utf-8') as make_file:\n",
        "    json.dumps(watchdata, indent = '\\t')"
      ],
      "execution_count": 5,
      "outputs": []
    },
    {
      "cell_type": "code",
      "metadata": {
        "id": "MPAJX2WbnE1D",
        "colab_type": "code",
        "colab": {
          "base_uri": "https://localhost:8080/",
          "height": 215
        },
        "outputId": "54765902-08cf-4c38-d851-9ab67bad2f5a"
      },
      "source": [
        "df = pd.DataFrame(watchdata['data'])\n",
        "df.head()"
      ],
      "execution_count": 6,
      "outputs": [
        {
          "output_type": "execute_result",
          "data": {
            "text/html": [
              "<div>\n",
              "<style scoped>\n",
              "    .dataframe tbody tr th:only-of-type {\n",
              "        vertical-align: middle;\n",
              "    }\n",
              "\n",
              "    .dataframe tbody tr th {\n",
              "        vertical-align: top;\n",
              "    }\n",
              "\n",
              "    .dataframe thead th {\n",
              "        text-align: right;\n",
              "    }\n",
              "</style>\n",
              "<table border=\"1\" class=\"dataframe\">\n",
              "  <thead>\n",
              "    <tr style=\"text-align: right;\">\n",
              "      <th></th>\n",
              "      <th>playerId</th>\n",
              "      <th>teamId</th>\n",
              "      <th>role</th>\n",
              "      <th>name</th>\n",
              "      <th>team</th>\n",
              "      <th>eliminations_avg_per_10m</th>\n",
              "      <th>deaths_avg_per_10m</th>\n",
              "      <th>hero_damage_avg_per_10m</th>\n",
              "      <th>healing_avg_per_10m</th>\n",
              "      <th>ultimates_earned_avg_per_10m</th>\n",
              "      <th>final_blows_avg_per_10m</th>\n",
              "      <th>time_played_total</th>\n",
              "    </tr>\n",
              "  </thead>\n",
              "  <tbody>\n",
              "    <tr>\n",
              "      <th>0</th>\n",
              "      <td>5197</td>\n",
              "      <td>7693</td>\n",
              "      <td>offense</td>\n",
              "      <td>Ado</td>\n",
              "      <td>HZS</td>\n",
              "      <td>11.993982</td>\n",
              "      <td>5.611274</td>\n",
              "      <td>5234.956801</td>\n",
              "      <td>6207.457948</td>\n",
              "      <td>4.196975</td>\n",
              "      <td>3.765339</td>\n",
              "      <td>65332.762069</td>\n",
              "    </tr>\n",
              "    <tr>\n",
              "      <th>1</th>\n",
              "      <td>8675</td>\n",
              "      <td>7693</td>\n",
              "      <td>offense</td>\n",
              "      <td>Adora</td>\n",
              "      <td>HZS</td>\n",
              "      <td>16.002129</td>\n",
              "      <td>3.876235</td>\n",
              "      <td>5390.964430</td>\n",
              "      <td>5678.864360</td>\n",
              "      <td>4.410253</td>\n",
              "      <td>4.134037</td>\n",
              "      <td>65166.328327</td>\n",
              "    </tr>\n",
              "    <tr>\n",
              "      <th>2</th>\n",
              "      <td>4142</td>\n",
              "      <td>7695</td>\n",
              "      <td>offense</td>\n",
              "      <td>Agilities</td>\n",
              "      <td>TOR</td>\n",
              "      <td>15.930212</td>\n",
              "      <td>5.525910</td>\n",
              "      <td>6591.302371</td>\n",
              "      <td>6535.752019</td>\n",
              "      <td>4.740087</td>\n",
              "      <td>4.815526</td>\n",
              "      <td>95441.290463</td>\n",
              "    </tr>\n",
              "    <tr>\n",
              "      <th>3</th>\n",
              "      <td>5863</td>\n",
              "      <td>7697</td>\n",
              "      <td>support</td>\n",
              "      <td>AimGod</td>\n",
              "      <td>WAS</td>\n",
              "      <td>13.414336</td>\n",
              "      <td>4.687159</td>\n",
              "      <td>6721.795662</td>\n",
              "      <td>9486.871283</td>\n",
              "      <td>4.724139</td>\n",
              "      <td>3.651732</td>\n",
              "      <td>64900.715138</td>\n",
              "    </tr>\n",
              "    <tr>\n",
              "      <th>4</th>\n",
              "      <td>3985</td>\n",
              "      <td>4523</td>\n",
              "      <td>offense</td>\n",
              "      <td>aKm</td>\n",
              "      <td>DAL</td>\n",
              "      <td>17.296143</td>\n",
              "      <td>5.178533</td>\n",
              "      <td>9600.623636</td>\n",
              "      <td>158.646056</td>\n",
              "      <td>4.575825</td>\n",
              "      <td>6.050875</td>\n",
              "      <td>75658.485169</td>\n",
              "    </tr>\n",
              "  </tbody>\n",
              "</table>\n",
              "</div>"
            ],
            "text/plain": [
              "   playerId  teamId  ... final_blows_avg_per_10m time_played_total\n",
              "0      5197    7693  ...                3.765339      65332.762069\n",
              "1      8675    7693  ...                4.134037      65166.328327\n",
              "2      4142    7695  ...                4.815526      95441.290463\n",
              "3      5863    7697  ...                3.651732      64900.715138\n",
              "4      3985    4523  ...                6.050875      75658.485169\n",
              "\n",
              "[5 rows x 12 columns]"
            ]
          },
          "metadata": {
            "tags": []
          },
          "execution_count": 6
        }
      ]
    },
    {
      "cell_type": "markdown",
      "metadata": {
        "id": "Wu-sYfmznJbK",
        "colab_type": "text"
      },
      "source": [
        "크롤링이 생각보다 아주 단순하다"
      ]
    },
    {
      "cell_type": "code",
      "metadata": {
        "id": "rNgAj90onGh3",
        "colab_type": "code",
        "colab": {
          "base_uri": "https://localhost:8080/",
          "height": 101
        },
        "outputId": "94fc5bf1-e396-481d-c1fb-08bd3e33c6c3"
      },
      "source": [
        "#역할군별 10분당 처치비율\n",
        "avg_eli_per_10 = df.groupby('role')['eliminations_avg_per_10m'].mean()\n",
        "print(avg_eli_per_10)"
      ],
      "execution_count": null,
      "outputs": [
        {
          "output_type": "stream",
          "text": [
            "role\n",
            "offense    16.651697\n",
            "support    12.737868\n",
            "tank       16.503044\n",
            "Name: eliminations_avg_per_10m, dtype: float64\n"
          ],
          "name": "stdout"
        }
      ]
    },
    {
      "cell_type": "code",
      "metadata": {
        "id": "3BzuSlFXnMFJ",
        "colab_type": "code",
        "colab": {
          "base_uri": "https://localhost:8080/",
          "height": 34
        },
        "outputId": "d2fcc61c-1c71-4b62-a243-89659b49a0cf"
      },
      "source": [
        "#리그 전체 수준의 목처 비율\n",
        "df['eli_per_death'] = (df['eliminations_avg_per_10m'] / df['deaths_avg_per_10m'])\n",
        "df['eli_per_death'].mean()"
      ],
      "execution_count": null,
      "outputs": [
        {
          "output_type": "execute_result",
          "data": {
            "text/plain": [
              "3.320161794038524"
            ]
          },
          "metadata": {
            "tags": []
          },
          "execution_count": 6
        }
      ]
    },
    {
      "cell_type": "code",
      "metadata": {
        "id": "B5VdjMrJpYUb",
        "colab_type": "code",
        "colab": {
          "base_uri": "https://localhost:8080/",
          "height": 168
        },
        "outputId": "35106e78-2d8c-4d0e-e5ed-1b551b0360e7"
      },
      "source": [
        "#기술통계량으로 그 데이터계열의 구간을 알아볼 수 있음\n",
        "df['eli_per_death'].describe()"
      ],
      "execution_count": null,
      "outputs": [
        {
          "output_type": "execute_result",
          "data": {
            "text/plain": [
              "count    126.000000\n",
              "mean       3.320162\n",
              "std        0.916125\n",
              "min        0.891304\n",
              "25%        2.677959\n",
              "50%        3.184778\n",
              "75%        3.858503\n",
              "max        6.084862\n",
              "Name: eli_per_death, dtype: float64"
            ]
          },
          "metadata": {
            "tags": []
          },
          "execution_count": 7
        }
      ]
    },
    {
      "cell_type": "code",
      "metadata": {
        "id": "TQ1vRFy2pdKV",
        "colab_type": "code",
        "colab": {}
      },
      "source": [
        "# eli_per_death_edge 어느 정도해야 리그 평균인지 알 수 있게 구간 설정\n",
        "eli_per_death_edges = [1.9,3.164157,3.783626, 6.1]"
      ],
      "execution_count": null,
      "outputs": []
    },
    {
      "cell_type": "code",
      "metadata": {
        "id": "i24hhQG4pgFi",
        "colab_type": "code",
        "colab": {}
      },
      "source": [
        "eli_per_death_names = ['low-performer', 'avg-performer', 'super-performer']"
      ],
      "execution_count": null,
      "outputs": []
    },
    {
      "cell_type": "code",
      "metadata": {
        "id": "0NLtWhC3piYr",
        "colab_type": "code",
        "colab": {
          "base_uri": "https://localhost:8080/",
          "height": 156
        },
        "outputId": "b602bd12-4eff-45ad-80a6-b7a7782ba9ad"
      },
      "source": [
        "#위의 기술통계량을 바탕으로 상위, 하위 레빌 나눔, 그리고 pd.cut을 이용해서 구간별로 잘라서 새로운 열로 만들어 player 기준으로 붙여줌\n",
        "df['eli_per_death_level'] = pd.cut(df['eli_per_death'], eli_per_death_edges, labels = eli_per_death_names)\n",
        "df.head(3)"
      ],
      "execution_count": null,
      "outputs": [
        {
          "output_type": "execute_result",
          "data": {
            "text/html": [
              "<div>\n",
              "<style scoped>\n",
              "    .dataframe tbody tr th:only-of-type {\n",
              "        vertical-align: middle;\n",
              "    }\n",
              "\n",
              "    .dataframe tbody tr th {\n",
              "        vertical-align: top;\n",
              "    }\n",
              "\n",
              "    .dataframe thead th {\n",
              "        text-align: right;\n",
              "    }\n",
              "</style>\n",
              "<table border=\"1\" class=\"dataframe\">\n",
              "  <thead>\n",
              "    <tr style=\"text-align: right;\">\n",
              "      <th></th>\n",
              "      <th>playerId</th>\n",
              "      <th>teamId</th>\n",
              "      <th>role</th>\n",
              "      <th>name</th>\n",
              "      <th>team</th>\n",
              "      <th>eliminations_avg_per_10m</th>\n",
              "      <th>deaths_avg_per_10m</th>\n",
              "      <th>hero_damage_avg_per_10m</th>\n",
              "      <th>healing_avg_per_10m</th>\n",
              "      <th>ultimates_earned_avg_per_10m</th>\n",
              "      <th>final_blows_avg_per_10m</th>\n",
              "      <th>time_played_total</th>\n",
              "      <th>eli_per_death</th>\n",
              "      <th>eli_per_death_level</th>\n",
              "    </tr>\n",
              "  </thead>\n",
              "  <tbody>\n",
              "    <tr>\n",
              "      <th>0</th>\n",
              "      <td>5197</td>\n",
              "      <td>7693</td>\n",
              "      <td>offense</td>\n",
              "      <td>Ado</td>\n",
              "      <td>HZS</td>\n",
              "      <td>11.993982</td>\n",
              "      <td>5.611274</td>\n",
              "      <td>5234.956801</td>\n",
              "      <td>6207.457948</td>\n",
              "      <td>4.196975</td>\n",
              "      <td>3.765339</td>\n",
              "      <td>65332.762069</td>\n",
              "      <td>2.137480</td>\n",
              "      <td>low-performer</td>\n",
              "    </tr>\n",
              "    <tr>\n",
              "      <th>1</th>\n",
              "      <td>8675</td>\n",
              "      <td>7693</td>\n",
              "      <td>offense</td>\n",
              "      <td>Adora</td>\n",
              "      <td>HZS</td>\n",
              "      <td>16.002129</td>\n",
              "      <td>3.876235</td>\n",
              "      <td>5390.964430</td>\n",
              "      <td>5678.864360</td>\n",
              "      <td>4.410253</td>\n",
              "      <td>4.134037</td>\n",
              "      <td>65166.328327</td>\n",
              "      <td>4.128266</td>\n",
              "      <td>super-performer</td>\n",
              "    </tr>\n",
              "    <tr>\n",
              "      <th>2</th>\n",
              "      <td>4142</td>\n",
              "      <td>7695</td>\n",
              "      <td>offense</td>\n",
              "      <td>Agilities</td>\n",
              "      <td>TOR</td>\n",
              "      <td>15.930212</td>\n",
              "      <td>5.525910</td>\n",
              "      <td>6591.302371</td>\n",
              "      <td>6535.752019</td>\n",
              "      <td>4.740087</td>\n",
              "      <td>4.815526</td>\n",
              "      <td>95441.290463</td>\n",
              "      <td>2.882821</td>\n",
              "      <td>low-performer</td>\n",
              "    </tr>\n",
              "  </tbody>\n",
              "</table>\n",
              "</div>"
            ],
            "text/plain": [
              "   playerId  teamId  ... eli_per_death eli_per_death_level\n",
              "0      5197    7693  ...      2.137480       low-performer\n",
              "1      8675    7693  ...      4.128266     super-performer\n",
              "2      4142    7695  ...      2.882821       low-performer\n",
              "\n",
              "[3 rows x 14 columns]"
            ]
          },
          "metadata": {
            "tags": []
          },
          "execution_count": 10
        }
      ]
    },
    {
      "cell_type": "code",
      "metadata": {
        "id": "aWPYmHx4pxo9",
        "colab_type": "code",
        "colab": {
          "base_uri": "https://localhost:8080/",
          "height": 34
        },
        "outputId": "eb5ebe46-597e-491e-f042-0280142f6645"
      },
      "source": [
        "#상위 20명의 목처 비율은 뭔가?\n",
        "top_twens = df.nlargest(20, 'eli_per_death')\n",
        "top_twens['eli_per_death'].mean()"
      ],
      "execution_count": null,
      "outputs": [
        {
          "output_type": "execute_result",
          "data": {
            "text/plain": [
              "4.836548404637718"
            ]
          },
          "metadata": {
            "tags": []
          },
          "execution_count": 21
        }
      ]
    },
    {
      "cell_type": "code",
      "metadata": {
        "id": "kOudbLuGp4Oj",
        "colab_type": "code",
        "colab": {
          "base_uri": "https://localhost:8080/",
          "height": 215
        },
        "outputId": "e76e4798-11cf-451c-f667-22c475ec001d"
      },
      "source": [
        "#딜러 군 상위 20명의 목처 비율은 뭔가?\n",
        "dealer = df.loc[df['role'] == 'offense'].copy()\n",
        "dealer.head()"
      ],
      "execution_count": null,
      "outputs": [
        {
          "output_type": "execute_result",
          "data": {
            "text/html": [
              "<div>\n",
              "<style scoped>\n",
              "    .dataframe tbody tr th:only-of-type {\n",
              "        vertical-align: middle;\n",
              "    }\n",
              "\n",
              "    .dataframe tbody tr th {\n",
              "        vertical-align: top;\n",
              "    }\n",
              "\n",
              "    .dataframe thead th {\n",
              "        text-align: right;\n",
              "    }\n",
              "</style>\n",
              "<table border=\"1\" class=\"dataframe\">\n",
              "  <thead>\n",
              "    <tr style=\"text-align: right;\">\n",
              "      <th></th>\n",
              "      <th>playerId</th>\n",
              "      <th>teamId</th>\n",
              "      <th>role</th>\n",
              "      <th>name</th>\n",
              "      <th>team</th>\n",
              "      <th>eliminations_avg_per_10m</th>\n",
              "      <th>deaths_avg_per_10m</th>\n",
              "      <th>hero_damage_avg_per_10m</th>\n",
              "      <th>healing_avg_per_10m</th>\n",
              "      <th>ultimates_earned_avg_per_10m</th>\n",
              "      <th>final_blows_avg_per_10m</th>\n",
              "      <th>time_played_total</th>\n",
              "      <th>eli_per_death</th>\n",
              "      <th>eli_per_death_level</th>\n",
              "    </tr>\n",
              "  </thead>\n",
              "  <tbody>\n",
              "    <tr>\n",
              "      <th>86</th>\n",
              "      <td>8236</td>\n",
              "      <td>4403</td>\n",
              "      <td>offense</td>\n",
              "      <td>Nenne</td>\n",
              "      <td>NYE</td>\n",
              "      <td>19.365667</td>\n",
              "      <td>3.759414</td>\n",
              "      <td>9397.008782</td>\n",
              "      <td>110.601006</td>\n",
              "      <td>4.348077</td>\n",
              "      <td>6.869962</td>\n",
              "      <td>89694.820843</td>\n",
              "      <td>5.151246</td>\n",
              "      <td>super-performer</td>\n",
              "    </tr>\n",
              "    <tr>\n",
              "      <th>51</th>\n",
              "      <td>8750</td>\n",
              "      <td>4403</td>\n",
              "      <td>offense</td>\n",
              "      <td>Haksal</td>\n",
              "      <td>NYE</td>\n",
              "      <td>19.341104</td>\n",
              "      <td>4.282244</td>\n",
              "      <td>6198.426230</td>\n",
              "      <td>7396.956136</td>\n",
              "      <td>4.975924</td>\n",
              "      <td>5.462046</td>\n",
              "      <td>109848.948995</td>\n",
              "      <td>4.516582</td>\n",
              "      <td>super-performer</td>\n",
              "    </tr>\n",
              "    <tr>\n",
              "      <th>49</th>\n",
              "      <td>8713</td>\n",
              "      <td>7693</td>\n",
              "      <td>offense</td>\n",
              "      <td>GodsB</td>\n",
              "      <td>HZS</td>\n",
              "      <td>17.820443</td>\n",
              "      <td>3.996136</td>\n",
              "      <td>9683.685510</td>\n",
              "      <td>198.616918</td>\n",
              "      <td>4.516307</td>\n",
              "      <td>6.603111</td>\n",
              "      <td>98044.700710</td>\n",
              "      <td>4.459418</td>\n",
              "      <td>super-performer</td>\n",
              "    </tr>\n",
              "    <tr>\n",
              "      <th>105</th>\n",
              "      <td>4099</td>\n",
              "      <td>4403</td>\n",
              "      <td>offense</td>\n",
              "      <td>SAEBYEOLBE</td>\n",
              "      <td>NYE</td>\n",
              "      <td>17.099836</td>\n",
              "      <td>3.964827</td>\n",
              "      <td>5885.124875</td>\n",
              "      <td>818.279686</td>\n",
              "      <td>4.208068</td>\n",
              "      <td>5.910754</td>\n",
              "      <td>24666.903576</td>\n",
              "      <td>4.312883</td>\n",
              "      <td>super-performer</td>\n",
              "    </tr>\n",
              "    <tr>\n",
              "      <th>96</th>\n",
              "      <td>4662</td>\n",
              "      <td>4409</td>\n",
              "      <td>offense</td>\n",
              "      <td>Profit</td>\n",
              "      <td>SEO</td>\n",
              "      <td>18.610000</td>\n",
              "      <td>4.384087</td>\n",
              "      <td>8591.855489</td>\n",
              "      <td>938.785799</td>\n",
              "      <td>4.618088</td>\n",
              "      <td>6.359334</td>\n",
              "      <td>87178.935509</td>\n",
              "      <td>4.244898</td>\n",
              "      <td>super-performer</td>\n",
              "    </tr>\n",
              "  </tbody>\n",
              "</table>\n",
              "</div>"
            ],
            "text/plain": [
              "     playerId  teamId  ... eli_per_death eli_per_death_level\n",
              "86       8236    4403  ...      5.151246     super-performer\n",
              "51       8750    4403  ...      4.516582     super-performer\n",
              "49       8713    7693  ...      4.459418     super-performer\n",
              "105      4099    4403  ...      4.312883     super-performer\n",
              "96       4662    4409  ...      4.244898     super-performer\n",
              "\n",
              "[5 rows x 14 columns]"
            ]
          },
          "metadata": {
            "tags": []
          },
          "execution_count": 26
        }
      ]
    },
    {
      "cell_type": "code",
      "metadata": {
        "id": "A0rxl2T_r57S",
        "colab_type": "code",
        "colab": {
          "base_uri": "https://localhost:8080/",
          "height": 34
        },
        "outputId": "458bf731-4005-420f-b963-e06971bc75a4"
      },
      "source": [
        "dealer_twen = dealer.nlargest(20, 'eli_per_death')\n",
        "dealer_twen['eli_per_death'].mean()"
      ],
      "execution_count": null,
      "outputs": [
        {
          "output_type": "execute_result",
          "data": {
            "text/plain": [
              "4.071400483713899"
            ]
          },
          "metadata": {
            "tags": []
          },
          "execution_count": 31
        }
      ]
    },
    {
      "cell_type": "markdown",
      "metadata": {
        "id": "fY_oQubute9y",
        "colab_type": "text"
      },
      "source": [
        "탱커군이 더 높을 수도 있네"
      ]
    },
    {
      "cell_type": "code",
      "metadata": {
        "id": "b1E0rWNgth8T",
        "colab_type": "code",
        "colab": {
          "base_uri": "https://localhost:8080/",
          "height": 215
        },
        "outputId": "804f72f8-f165-43de-d48c-add79a7c0ac0"
      },
      "source": [
        "df_super = df.loc[df['eli_per_death_level'] == 'super-performer'].copy()\n",
        "df_super.head()"
      ],
      "execution_count": null,
      "outputs": [
        {
          "output_type": "execute_result",
          "data": {
            "text/html": [
              "<div>\n",
              "<style scoped>\n",
              "    .dataframe tbody tr th:only-of-type {\n",
              "        vertical-align: middle;\n",
              "    }\n",
              "\n",
              "    .dataframe tbody tr th {\n",
              "        vertical-align: top;\n",
              "    }\n",
              "\n",
              "    .dataframe thead th {\n",
              "        text-align: right;\n",
              "    }\n",
              "</style>\n",
              "<table border=\"1\" class=\"dataframe\">\n",
              "  <thead>\n",
              "    <tr style=\"text-align: right;\">\n",
              "      <th></th>\n",
              "      <th>playerId</th>\n",
              "      <th>teamId</th>\n",
              "      <th>role</th>\n",
              "      <th>name</th>\n",
              "      <th>team</th>\n",
              "      <th>eliminations_avg_per_10m</th>\n",
              "      <th>deaths_avg_per_10m</th>\n",
              "      <th>hero_damage_avg_per_10m</th>\n",
              "      <th>healing_avg_per_10m</th>\n",
              "      <th>ultimates_earned_avg_per_10m</th>\n",
              "      <th>final_blows_avg_per_10m</th>\n",
              "      <th>time_played_total</th>\n",
              "      <th>eli_per_death</th>\n",
              "      <th>eli_per_death_level</th>\n",
              "    </tr>\n",
              "  </thead>\n",
              "  <tbody>\n",
              "    <tr>\n",
              "      <th>124</th>\n",
              "      <td>5809</td>\n",
              "      <td>4408</td>\n",
              "      <td>tank</td>\n",
              "      <td>Void</td>\n",
              "      <td>SHD</td>\n",
              "      <td>19.343389</td>\n",
              "      <td>3.178936</td>\n",
              "      <td>6457.220391</td>\n",
              "      <td>250.965632</td>\n",
              "      <td>2.048810</td>\n",
              "      <td>5.555847</td>\n",
              "      <td>82291.682828</td>\n",
              "      <td>6.084862</td>\n",
              "      <td>super-performer</td>\n",
              "    </tr>\n",
              "    <tr>\n",
              "      <th>62</th>\n",
              "      <td>8748</td>\n",
              "      <td>7697</td>\n",
              "      <td>tank</td>\n",
              "      <td>JJANU</td>\n",
              "      <td>WAS</td>\n",
              "      <td>20.056908</td>\n",
              "      <td>3.381134</td>\n",
              "      <td>6203.063756</td>\n",
              "      <td>215.480218</td>\n",
              "      <td>2.321375</td>\n",
              "      <td>5.551115</td>\n",
              "      <td>107005.528668</td>\n",
              "      <td>5.932007</td>\n",
              "      <td>super-performer</td>\n",
              "    </tr>\n",
              "    <tr>\n",
              "      <th>83</th>\n",
              "      <td>8242</td>\n",
              "      <td>4409</td>\n",
              "      <td>tank</td>\n",
              "      <td>Michelle</td>\n",
              "      <td>SEO</td>\n",
              "      <td>18.928176</td>\n",
              "      <td>3.239774</td>\n",
              "      <td>6474.671283</td>\n",
              "      <td>235.795296</td>\n",
              "      <td>2.634018</td>\n",
              "      <td>5.737667</td>\n",
              "      <td>88154.295335</td>\n",
              "      <td>5.842437</td>\n",
              "      <td>super-performer</td>\n",
              "    </tr>\n",
              "    <tr>\n",
              "      <th>24</th>\n",
              "      <td>5831</td>\n",
              "      <td>4404</td>\n",
              "      <td>tank</td>\n",
              "      <td>Choihyobin</td>\n",
              "      <td>SFS</td>\n",
              "      <td>19.391551</td>\n",
              "      <td>3.472553</td>\n",
              "      <td>6035.142896</td>\n",
              "      <td>302.338209</td>\n",
              "      <td>2.882165</td>\n",
              "      <td>5.957548</td>\n",
              "      <td>111790.956037</td>\n",
              "      <td>5.584235</td>\n",
              "      <td>super-performer</td>\n",
              "    </tr>\n",
              "    <tr>\n",
              "      <th>6</th>\n",
              "      <td>4841</td>\n",
              "      <td>4403</td>\n",
              "      <td>support</td>\n",
              "      <td>Anamo</td>\n",
              "      <td>NYE</td>\n",
              "      <td>14.165021</td>\n",
              "      <td>2.745207</td>\n",
              "      <td>3948.127250</td>\n",
              "      <td>6563.244540</td>\n",
              "      <td>3.567532</td>\n",
              "      <td>1.898150</td>\n",
              "      <td>97041.863429</td>\n",
              "      <td>5.159910</td>\n",
              "      <td>super-performer</td>\n",
              "    </tr>\n",
              "  </tbody>\n",
              "</table>\n",
              "</div>"
            ],
            "text/plain": [
              "     playerId  teamId  ... eli_per_death eli_per_death_level\n",
              "124      5809    4408  ...      6.084862     super-performer\n",
              "62       8748    7697  ...      5.932007     super-performer\n",
              "83       8242    4409  ...      5.842437     super-performer\n",
              "24       5831    4404  ...      5.584235     super-performer\n",
              "6        4841    4403  ...      5.159910     super-performer\n",
              "\n",
              "[5 rows x 14 columns]"
            ]
          },
          "metadata": {
            "tags": []
          },
          "execution_count": 35
        }
      ]
    },
    {
      "cell_type": "code",
      "metadata": {
        "id": "05VYhd8rt0EV",
        "colab_type": "code",
        "colab": {
          "base_uri": "https://localhost:8080/",
          "height": 286
        },
        "outputId": "5f684cb3-7b13-4966-e247-c72f56203385"
      },
      "source": [
        "df_super.groupby(['team'])['eli_per_death_level'].count()"
      ],
      "execution_count": null,
      "outputs": [
        {
          "output_type": "execute_result",
          "data": {
            "text/plain": [
              "team\n",
              "ATL    1\n",
              "CDH    1\n",
              "FLA    1\n",
              "GLA    1\n",
              "GZC    2\n",
              "HOU    2\n",
              "HZS    4\n",
              "NYE    6\n",
              "PHI    2\n",
              "SEO    4\n",
              "SFS    3\n",
              "SHD    3\n",
              "TOR    1\n",
              "WAS    2\n",
              "Name: eli_per_death_level, dtype: int64"
            ]
          },
          "metadata": {
            "tags": []
          },
          "execution_count": 37
        }
      ]
    },
    {
      "cell_type": "code",
      "metadata": {
        "id": "twbeTbfBu9V0",
        "colab_type": "code",
        "colab": {}
      },
      "source": [
        "#북미와 아시아 플레이오프 3라운드 팀만 골라냄, 마지막에 : 또 까먹음\n",
        "df_usa = df.loc[df['team'].isin(['PHI','GLA', 'FLA', 'VAL', 'SFS', 'WAS', 'PAR', 'ATL']), :].copy()\n",
        "df_asia = df.loc[df['team'].isin(['SHD', 'NYE', 'GZC', 'SEO']), :].copy()"
      ],
      "execution_count": null,
      "outputs": []
    },
    {
      "cell_type": "code",
      "metadata": {
        "id": "gU7jvF5JvgVx",
        "colab_type": "code",
        "colab": {}
      },
      "source": [
        "#출전 시간을 시간 단위로 바꾸기\n",
        "df_usa['time_played_total'] = df_usa['time_played_total'].apply(lambda x: x / 3600)\n",
        "df_asia['time_played_total'] = df_usa['time_played_total'].apply(lambda x: x / 3600)"
      ],
      "execution_count": null,
      "outputs": []
    },
    {
      "cell_type": "code",
      "metadata": {
        "id": "TPSQiI7_zatU",
        "colab_type": "code",
        "colab": {
          "base_uri": "https://localhost:8080/",
          "height": 215
        },
        "outputId": "a3ce2831-4aeb-4b4a-b04e-579ba2c01846"
      },
      "source": [
        "df_usa.head()"
      ],
      "execution_count": null,
      "outputs": [
        {
          "output_type": "execute_result",
          "data": {
            "text/html": [
              "<div>\n",
              "<style scoped>\n",
              "    .dataframe tbody tr th:only-of-type {\n",
              "        vertical-align: middle;\n",
              "    }\n",
              "\n",
              "    .dataframe tbody tr th {\n",
              "        vertical-align: top;\n",
              "    }\n",
              "\n",
              "    .dataframe thead th {\n",
              "        text-align: right;\n",
              "    }\n",
              "</style>\n",
              "<table border=\"1\" class=\"dataframe\">\n",
              "  <thead>\n",
              "    <tr style=\"text-align: right;\">\n",
              "      <th></th>\n",
              "      <th>playerId</th>\n",
              "      <th>teamId</th>\n",
              "      <th>role</th>\n",
              "      <th>name</th>\n",
              "      <th>team</th>\n",
              "      <th>eliminations_avg_per_10m</th>\n",
              "      <th>deaths_avg_per_10m</th>\n",
              "      <th>hero_damage_avg_per_10m</th>\n",
              "      <th>healing_avg_per_10m</th>\n",
              "      <th>ultimates_earned_avg_per_10m</th>\n",
              "      <th>final_blows_avg_per_10m</th>\n",
              "      <th>time_played_total</th>\n",
              "      <th>eli_per_death</th>\n",
              "      <th>eli_per_death_level</th>\n",
              "    </tr>\n",
              "  </thead>\n",
              "  <tbody>\n",
              "    <tr>\n",
              "      <th>62</th>\n",
              "      <td>8748</td>\n",
              "      <td>7697</td>\n",
              "      <td>tank</td>\n",
              "      <td>JJANU</td>\n",
              "      <td>WAS</td>\n",
              "      <td>20.056908</td>\n",
              "      <td>3.381134</td>\n",
              "      <td>6203.063756</td>\n",
              "      <td>215.480218</td>\n",
              "      <td>2.321375</td>\n",
              "      <td>5.551115</td>\n",
              "      <td>29.723758</td>\n",
              "      <td>5.932007</td>\n",
              "      <td>super-performer</td>\n",
              "    </tr>\n",
              "    <tr>\n",
              "      <th>24</th>\n",
              "      <td>5831</td>\n",
              "      <td>4404</td>\n",
              "      <td>tank</td>\n",
              "      <td>Choihyobin</td>\n",
              "      <td>SFS</td>\n",
              "      <td>19.391551</td>\n",
              "      <td>3.472553</td>\n",
              "      <td>6035.142896</td>\n",
              "      <td>302.338209</td>\n",
              "      <td>2.882165</td>\n",
              "      <td>5.957548</td>\n",
              "      <td>31.053043</td>\n",
              "      <td>5.584235</td>\n",
              "      <td>super-performer</td>\n",
              "    </tr>\n",
              "    <tr>\n",
              "      <th>42</th>\n",
              "      <td>4659</td>\n",
              "      <td>4524</td>\n",
              "      <td>tank</td>\n",
              "      <td>Fury</td>\n",
              "      <td>PHI</td>\n",
              "      <td>18.857755</td>\n",
              "      <td>3.903886</td>\n",
              "      <td>6670.623658</td>\n",
              "      <td>231.368301</td>\n",
              "      <td>3.619366</td>\n",
              "      <td>6.213134</td>\n",
              "      <td>25.188576</td>\n",
              "      <td>4.830508</td>\n",
              "      <td>super-performer</td>\n",
              "    </tr>\n",
              "    <tr>\n",
              "      <th>40</th>\n",
              "      <td>9591</td>\n",
              "      <td>7698</td>\n",
              "      <td>tank</td>\n",
              "      <td>frd</td>\n",
              "      <td>ATL</td>\n",
              "      <td>18.613398</td>\n",
              "      <td>3.905223</td>\n",
              "      <td>5983.492229</td>\n",
              "      <td>477.419815</td>\n",
              "      <td>2.962583</td>\n",
              "      <td>6.224416</td>\n",
              "      <td>11.138930</td>\n",
              "      <td>4.766284</td>\n",
              "      <td>super-performer</td>\n",
              "    </tr>\n",
              "    <tr>\n",
              "      <th>114</th>\n",
              "      <td>4637</td>\n",
              "      <td>4406</td>\n",
              "      <td>tank</td>\n",
              "      <td>SPACE</td>\n",
              "      <td>GLA</td>\n",
              "      <td>16.937870</td>\n",
              "      <td>3.754919</td>\n",
              "      <td>6297.654849</td>\n",
              "      <td>349.497358</td>\n",
              "      <td>4.028947</td>\n",
              "      <td>5.421303</td>\n",
              "      <td>22.503813</td>\n",
              "      <td>4.510848</td>\n",
              "      <td>super-performer</td>\n",
              "    </tr>\n",
              "  </tbody>\n",
              "</table>\n",
              "</div>"
            ],
            "text/plain": [
              "     playerId  teamId  ... eli_per_death eli_per_death_level\n",
              "62       8748    7697  ...      5.932007     super-performer\n",
              "24       5831    4404  ...      5.584235     super-performer\n",
              "42       4659    4524  ...      4.830508     super-performer\n",
              "40       9591    7698  ...      4.766284     super-performer\n",
              "114      4637    4406  ...      4.510848     super-performer\n",
              "\n",
              "[5 rows x 14 columns]"
            ]
          },
          "metadata": {
            "tags": []
          },
          "execution_count": 52
        }
      ]
    },
    {
      "cell_type": "code",
      "metadata": {
        "id": "8xHjTPxqzcih",
        "colab_type": "code",
        "colab": {}
      },
      "source": [
        "df_usa_graph = df_usa.groupby(['team'])[['hero_damage_avg_per_10m']].sum()\n",
        "df_asia_graph = df_usa.groupby(['team'])[['hero_damage_avg_per_10m']].sum()"
      ],
      "execution_count": null,
      "outputs": []
    },
    {
      "cell_type": "code",
      "metadata": {
        "id": "9ZWq_rRu0oJb",
        "colab_type": "code",
        "colab": {}
      },
      "source": [
        "df_usa_graph.reset_index(inplace=True)"
      ],
      "execution_count": null,
      "outputs": []
    },
    {
      "cell_type": "code",
      "metadata": {
        "id": "MC9t2dGZ0-KY",
        "colab_type": "code",
        "colab": {}
      },
      "source": [
        "df_asia_graph.reset_index(inplace=True)"
      ],
      "execution_count": null,
      "outputs": []
    },
    {
      "cell_type": "code",
      "metadata": {
        "id": "Sx2hRclQ1HsL",
        "colab_type": "code",
        "colab": {
          "base_uri": "https://localhost:8080/",
          "height": 284
        },
        "outputId": "8f6d812b-18f5-4db0-d2a4-11ce86d78921"
      },
      "source": [
        "df_asia_graph"
      ],
      "execution_count": null,
      "outputs": [
        {
          "output_type": "execute_result",
          "data": {
            "text/html": [
              "<div>\n",
              "<style scoped>\n",
              "    .dataframe tbody tr th:only-of-type {\n",
              "        vertical-align: middle;\n",
              "    }\n",
              "\n",
              "    .dataframe tbody tr th {\n",
              "        vertical-align: top;\n",
              "    }\n",
              "\n",
              "    .dataframe thead th {\n",
              "        text-align: right;\n",
              "    }\n",
              "</style>\n",
              "<table border=\"1\" class=\"dataframe\">\n",
              "  <thead>\n",
              "    <tr style=\"text-align: right;\">\n",
              "      <th></th>\n",
              "      <th>team</th>\n",
              "      <th>hero_damage_avg_per_10m</th>\n",
              "    </tr>\n",
              "  </thead>\n",
              "  <tbody>\n",
              "    <tr>\n",
              "      <th>0</th>\n",
              "      <td>ATL</td>\n",
              "      <td>36621.304587</td>\n",
              "    </tr>\n",
              "    <tr>\n",
              "      <th>1</th>\n",
              "      <td>FLA</td>\n",
              "      <td>39591.619961</td>\n",
              "    </tr>\n",
              "    <tr>\n",
              "      <th>2</th>\n",
              "      <td>GLA</td>\n",
              "      <td>43123.989634</td>\n",
              "    </tr>\n",
              "    <tr>\n",
              "      <th>3</th>\n",
              "      <td>PAR</td>\n",
              "      <td>26446.296302</td>\n",
              "    </tr>\n",
              "    <tr>\n",
              "      <th>4</th>\n",
              "      <td>PHI</td>\n",
              "      <td>53969.524367</td>\n",
              "    </tr>\n",
              "    <tr>\n",
              "      <th>5</th>\n",
              "      <td>SFS</td>\n",
              "      <td>52789.861557</td>\n",
              "    </tr>\n",
              "    <tr>\n",
              "      <th>6</th>\n",
              "      <td>VAL</td>\n",
              "      <td>28822.329989</td>\n",
              "    </tr>\n",
              "    <tr>\n",
              "      <th>7</th>\n",
              "      <td>WAS</td>\n",
              "      <td>38920.964962</td>\n",
              "    </tr>\n",
              "  </tbody>\n",
              "</table>\n",
              "</div>"
            ],
            "text/plain": [
              "  team  hero_damage_avg_per_10m\n",
              "0  ATL             36621.304587\n",
              "1  FLA             39591.619961\n",
              "2  GLA             43123.989634\n",
              "3  PAR             26446.296302\n",
              "4  PHI             53969.524367\n",
              "5  SFS             52789.861557\n",
              "6  VAL             28822.329989\n",
              "7  WAS             38920.964962"
            ]
          },
          "metadata": {
            "tags": []
          },
          "execution_count": 64
        }
      ]
    },
    {
      "cell_type": "markdown",
      "metadata": {
        "id": "YW3JNYtB2Ec8",
        "colab_type": "text"
      },
      "source": [
        "위의 데이터를 엑셀 파일에 차트와 표로 만들고 저장하기"
      ]
    },
    {
      "cell_type": "code",
      "metadata": {
        "id": "sPYCGf0I1Jif",
        "colab_type": "code",
        "colab": {
          "base_uri": "https://localhost:8080/",
          "height": 101
        },
        "outputId": "764f1c00-3683-44c1-ead7-1eede4ff1dc8"
      },
      "source": [
        "!pip install xlsxwriter"
      ],
      "execution_count": null,
      "outputs": [
        {
          "output_type": "stream",
          "text": [
            "Collecting xlsxwriter\n",
            "\u001b[?25l  Downloading https://files.pythonhosted.org/packages/2b/98/17875723b6814fc4d0fc03f0997ee00de2dbd78cf195e2ec3f2c9c789d40/XlsxWriter-1.3.3-py2.py3-none-any.whl (144kB)\n",
            "\r\u001b[K     |██▎                             | 10kB 16.9MB/s eta 0:00:01\r\u001b[K     |████▌                           | 20kB 1.8MB/s eta 0:00:01\r\u001b[K     |██████▉                         | 30kB 2.4MB/s eta 0:00:01\r\u001b[K     |█████████                       | 40kB 2.6MB/s eta 0:00:01\r\u001b[K     |███████████▍                    | 51kB 2.1MB/s eta 0:00:01\r\u001b[K     |█████████████▋                  | 61kB 2.4MB/s eta 0:00:01\r\u001b[K     |████████████████                | 71kB 2.6MB/s eta 0:00:01\r\u001b[K     |██████████████████▏             | 81kB 2.8MB/s eta 0:00:01\r\u001b[K     |████████████████████▌           | 92kB 3.0MB/s eta 0:00:01\r\u001b[K     |██████████████████████▊         | 102kB 2.9MB/s eta 0:00:01\r\u001b[K     |█████████████████████████       | 112kB 2.9MB/s eta 0:00:01\r\u001b[K     |███████████████████████████▎    | 122kB 2.9MB/s eta 0:00:01\r\u001b[K     |█████████████████████████████▋  | 133kB 2.9MB/s eta 0:00:01\r\u001b[K     |███████████████████████████████▉| 143kB 2.9MB/s eta 0:00:01\r\u001b[K     |████████████████████████████████| 153kB 2.9MB/s \n",
            "\u001b[?25hInstalling collected packages: xlsxwriter\n",
            "Successfully installed xlsxwriter-1.3.3\n"
          ],
          "name": "stdout"
        }
      ]
    },
    {
      "cell_type": "code",
      "metadata": {
        "id": "P8riZUsY1MWg",
        "colab_type": "code",
        "colab": {
          "base_uri": "https://localhost:8080/",
          "height": 34
        },
        "outputId": "e0aa23bd-c799-4eeb-9c19-7fb2ba1cf9e3"
      },
      "source": [
        "#경로설정 및 엑셀파일 쓰기\n",
        "from google.colab import drive\n",
        "drive.mount('/content/drive')"
      ],
      "execution_count": null,
      "outputs": [
        {
          "output_type": "stream",
          "text": [
            "Mounted at /content/drive\n"
          ],
          "name": "stdout"
        }
      ]
    },
    {
      "cell_type": "code",
      "metadata": {
        "id": "jT-1f0Gb1jxy",
        "colab_type": "code",
        "colab": {}
      },
      "source": [
        "#경로설정 필요\n",
        "writer = pd.ExcelWriter('/content/drive/My Drive/goorum/overwatch_refined.xlsx', engine='xlsxwriter')"
      ],
      "execution_count": null,
      "outputs": []
    },
    {
      "cell_type": "code",
      "metadata": {
        "id": "fYElWXHB1W6m",
        "colab_type": "code",
        "colab": {}
      },
      "source": [
        "# 데이터프레임의 객체를 XlsxWriter Excel 객체로 변환 \n",
        "df_usa_graph.to_excel(writer, sheet_name='Sheet1', index=False)\n",
        "\n",
        "# xlsxwriter workbook and worksheet 객체 호출\n",
        "workbook  = writer.book\n",
        "worksheet = writer.sheets['Sheet1']"
      ],
      "execution_count": null,
      "outputs": []
    },
    {
      "cell_type": "code",
      "metadata": {
        "id": "MEmikwbA11c5",
        "colab_type": "code",
        "colab": {}
      },
      "source": [
        "#엑셀의 셀조정\n",
        "chart = workbook.add_chart({'type': 'column'})\n",
        "chart.add_series({\n",
        "    'values':     '=Sheet1!$B$2:$B$9',\n",
        "    'categories': '=Sheet1!$A$2:$A$9',\n",
        "    'gap':        100, # column 사이의 간격 \n",
        "})"
      ],
      "execution_count": null,
      "outputs": []
    },
    {
      "cell_type": "code",
      "metadata": {
        "id": "liHMdFIS2MQA",
        "colab_type": "code",
        "colab": {}
      },
      "source": [
        "#헤더포맷\n",
        "header_format = workbook.add_format({\n",
        "    'size' : 10,\n",
        "    'bold': True,\n",
        "    'text_wrap': True,\n",
        "    'valign': 'top',\n",
        "    'align' : 'center',\n",
        "    'fg_color': '#D7E4BC',\n",
        "    'border': 1})"
      ],
      "execution_count": null,
      "outputs": []
    },
    {
      "cell_type": "code",
      "metadata": {
        "id": "znZUHYUz2RPF",
        "colab_type": "code",
        "colab": {}
      },
      "source": [
        "for col_num, value in enumerate(df_usa_graph.columns.values):  #값을 루프문으로 삽입\n",
        "    worksheet.write(0, col_num, value, header_format)\n",
        "\n",
        "# Cell의 포맷팅 설정 \n",
        "format1 = workbook.add_format({'num_format': '#,##0.00'})\n",
        "format2 = workbook.add_format({'num_format':  '#,##0.00'})\n",
        "\n",
        "# B:B 전체, Cell 크기 20, format 설정은 위의 format1\n",
        "worksheet.set_column('A:A', 20, format1)\n",
        "\n",
        "# C:C 전체, Cell 크기 기본값 , format 설정은 위의 format2\n",
        "worksheet.set_column('B:B', 15, format2)\n",
        "\n",
        "worksheet.write(0,2, \"(unit:damage)\")\n",
        "writer.save()"
      ],
      "execution_count": null,
      "outputs": []
    },
    {
      "cell_type": "code",
      "metadata": {
        "id": "nrAiEAzS2mPx",
        "colab_type": "code",
        "colab": {}
      },
      "source": [
        ""
      ],
      "execution_count": null,
      "outputs": []
    }
  ]
}